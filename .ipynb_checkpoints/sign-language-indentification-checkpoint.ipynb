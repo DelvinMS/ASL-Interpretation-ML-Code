{
 "cells": [
  {
   "cell_type": "markdown",
   "id": "combined-background",
   "metadata": {
    "_cell_guid": "b1076dfc-b9ad-4769-8c92-a6c4dae69d19",
    "_uuid": "8f2839f25d086af736a60e9eeb907d3b93b6e0e5",
    "papermill": {
     "duration": 0.025751,
     "end_time": "2021-06-10T10:36:00.610921",
     "exception": false,
     "start_time": "2021-06-10T10:36:00.585170",
     "status": "completed"
    },
    "tags": []
   },
   "source": [
    "<p style = \"font-size : 42px; color : #393e46 ; font-family : 'Comic Sans MS'; text-align : center; background-color : #00adb5; border-radius: 5px 5px;\"><strong>Sign Language Identification</strong></p>\n",
    "\n",
    "## What are Sign languages ?\n",
    "<img style=\"margin: auto; float: center;  border:5px solid #ffb037; width:80%; height : 300px;\"  src=\"https://image.shutterstock.com/image-photo/woman-showing-letters-asl-on-260nw-1305207925.jpg\">\n",
    "\n",
    "\n",
    "<br>\n",
    "Sign languages are languages that use the visual-manual modality to convey meaning. Sign languages are expressed through manual articulations in combination with non-manual elements. Sign languages are full-fledged natural languages with their own grammar and lexicon .\n",
    "\n",
    "## Problems Explaination\n",
    "We are given all the different gasture images considered in ASL (Americal Sign Language) and we need to come up with a machine learning model wich can classifiy the images correctly ,or can tell us the class to which the given image belongs.\n",
    "Basically we will be building a image classification model . \n",
    "<br>\n",
    "## Data information\n",
    "we are given 2 comma saperated file(.csv) each on them contains some rows and 785 columns\n",
    "* from 2nd columns onwards each column represents the pixel values associated , representing a 28x28 grayscale image\n",
    "* first column in each row represnts label with the image\n",
    "* There are total 24 lables (in american sign language) A-I,K-Y means A-Z except J and Z\n",
    "\n",
    "we will be using cnn to solve this problem .\n",
    "\n",
    "## What is an convolution neural network\n",
    "A Convolutional Neural Network (ConvNet/CNN) is a Deep Learning algorithm which can take in an input image, assign importance (learnable weights and biases) to various aspects/objects in the image and be able to differentiate one from the other.\n",
    "<br>\n",
    "A Cnn consists of 4 types of nueral layers (collection of 'nodes' operating together at a specific depth within a neural network) .\n",
    "* **Convolutional Layer** :  Used to detect features\n",
    "* **Non-Linearity Layer** :  Introducing non-linearity to the system\n",
    "* **Pooling (Downsampling) Layer** :  Reduces weight count and checks fitness\n",
    "* **Flattening Layer** :  Prepares data for Classical Neural Network\n",
    "* **Fully-Connected Layer** :  Standard Neural Network used in classification\n",
    "I'll not go in depth of each of these layers we will be more focused towards solving this problem,i.e implementation part."
   ]
  },
  {
   "cell_type": "markdown",
   "id": "dominican-flesh",
   "metadata": {
    "papermill": {
     "duration": 0.024349,
     "end_time": "2021-06-10T10:36:00.659900",
     "exception": false,
     "start_time": "2021-06-10T10:36:00.635551",
     "status": "completed"
    },
    "tags": []
   },
   "source": [
    "# import libraries"
   ]
  },
  {
   "cell_type": "code",
   "execution_count": 1,
   "id": "plastic-taste",
   "metadata": {
    "execution": {
     "iopub.execute_input": "2021-06-10T10:36:00.720400Z",
     "iopub.status.busy": "2021-06-10T10:36:00.719866Z",
     "iopub.status.idle": "2021-06-10T10:36:06.096263Z",
     "shell.execute_reply": "2021-06-10T10:36:06.095615Z",
     "shell.execute_reply.started": "2021-06-10T10:08:23.429092Z"
    },
    "papermill": {
     "duration": 5.411876,
     "end_time": "2021-06-10T10:36:06.096418",
     "exception": false,
     "start_time": "2021-06-10T10:36:00.684542",
     "status": "completed"
    },
    "tags": []
   },
   "outputs": [],
   "source": [
    "import numpy as np\n",
    "import pandas as pd\n",
    "import matplotlib.pyplot as plt\n",
    "import seaborn as sns\n",
    "from sklearn.preprocessing import LabelBinarizer\n",
    "import tensorflow as tf\n",
    "import tensorflow_hub as hub\n",
    "from PIL import Image\n",
    "from keras.preprocessing.image import ImageDataGenerator\n",
    "from kerastuner import RandomSearch\n",
    "from kerastuner.engine.hyperparameters import HyperParameters\n",
    "from tensorflow import keras\n",
    "from keras.models import Sequential\n",
    "from keras.layers import Dense, Conv2D , MaxPool2D , Flatten , Dropout , BatchNormalization\n",
    "from keras.callbacks import ReduceLROnPlateau\n",
    "from sklearn.metrics import accuracy_score,confusion_matrix\n",
    "from keras.callbacks import ReduceLROnPlateau\n"
   ]
  },
  {
   "cell_type": "code",
   "execution_count": 2,
   "id": "neutral-convertible",
   "metadata": {
    "execution": {
     "iopub.execute_input": "2021-06-10T10:36:06.155453Z",
     "iopub.status.busy": "2021-06-10T10:36:06.154933Z",
     "iopub.status.idle": "2021-06-10T10:36:09.480480Z",
     "shell.execute_reply": "2021-06-10T10:36:09.480942Z",
     "shell.execute_reply.started": "2021-06-10T09:48:36.798359Z"
    },
    "papermill": {
     "duration": 3.359506,
     "end_time": "2021-06-10T10:36:09.481094",
     "exception": false,
     "start_time": "2021-06-10T10:36:06.121588",
     "status": "completed"
    },
    "tags": []
   },
   "outputs": [
    {
     "name": "stdout",
     "output_type": "stream",
     "text": [
      "(27455, 785)\n"
     ]
    },
    {
     "data": {
      "text/html": [
       "<div>\n",
       "<style scoped>\n",
       "    .dataframe tbody tr th:only-of-type {\n",
       "        vertical-align: middle;\n",
       "    }\n",
       "\n",
       "    .dataframe tbody tr th {\n",
       "        vertical-align: top;\n",
       "    }\n",
       "\n",
       "    .dataframe thead th {\n",
       "        text-align: right;\n",
       "    }\n",
       "</style>\n",
       "<table border=\"1\" class=\"dataframe\">\n",
       "  <thead>\n",
       "    <tr style=\"text-align: right;\">\n",
       "      <th></th>\n",
       "      <th>label</th>\n",
       "      <th>pixel1</th>\n",
       "      <th>pixel2</th>\n",
       "      <th>pixel3</th>\n",
       "      <th>pixel4</th>\n",
       "      <th>pixel5</th>\n",
       "      <th>pixel6</th>\n",
       "      <th>pixel7</th>\n",
       "      <th>pixel8</th>\n",
       "      <th>pixel9</th>\n",
       "      <th>...</th>\n",
       "      <th>pixel775</th>\n",
       "      <th>pixel776</th>\n",
       "      <th>pixel777</th>\n",
       "      <th>pixel778</th>\n",
       "      <th>pixel779</th>\n",
       "      <th>pixel780</th>\n",
       "      <th>pixel781</th>\n",
       "      <th>pixel782</th>\n",
       "      <th>pixel783</th>\n",
       "      <th>pixel784</th>\n",
       "    </tr>\n",
       "  </thead>\n",
       "  <tbody>\n",
       "    <tr>\n",
       "      <th>0</th>\n",
       "      <td>3</td>\n",
       "      <td>107</td>\n",
       "      <td>118</td>\n",
       "      <td>127</td>\n",
       "      <td>134</td>\n",
       "      <td>139</td>\n",
       "      <td>143</td>\n",
       "      <td>146</td>\n",
       "      <td>150</td>\n",
       "      <td>153</td>\n",
       "      <td>...</td>\n",
       "      <td>207</td>\n",
       "      <td>207</td>\n",
       "      <td>207</td>\n",
       "      <td>207</td>\n",
       "      <td>206</td>\n",
       "      <td>206</td>\n",
       "      <td>206</td>\n",
       "      <td>204</td>\n",
       "      <td>203</td>\n",
       "      <td>202</td>\n",
       "    </tr>\n",
       "    <tr>\n",
       "      <th>1</th>\n",
       "      <td>6</td>\n",
       "      <td>155</td>\n",
       "      <td>157</td>\n",
       "      <td>156</td>\n",
       "      <td>156</td>\n",
       "      <td>156</td>\n",
       "      <td>157</td>\n",
       "      <td>156</td>\n",
       "      <td>158</td>\n",
       "      <td>158</td>\n",
       "      <td>...</td>\n",
       "      <td>69</td>\n",
       "      <td>149</td>\n",
       "      <td>128</td>\n",
       "      <td>87</td>\n",
       "      <td>94</td>\n",
       "      <td>163</td>\n",
       "      <td>175</td>\n",
       "      <td>103</td>\n",
       "      <td>135</td>\n",
       "      <td>149</td>\n",
       "    </tr>\n",
       "    <tr>\n",
       "      <th>2</th>\n",
       "      <td>2</td>\n",
       "      <td>187</td>\n",
       "      <td>188</td>\n",
       "      <td>188</td>\n",
       "      <td>187</td>\n",
       "      <td>187</td>\n",
       "      <td>186</td>\n",
       "      <td>187</td>\n",
       "      <td>188</td>\n",
       "      <td>187</td>\n",
       "      <td>...</td>\n",
       "      <td>202</td>\n",
       "      <td>201</td>\n",
       "      <td>200</td>\n",
       "      <td>199</td>\n",
       "      <td>198</td>\n",
       "      <td>199</td>\n",
       "      <td>198</td>\n",
       "      <td>195</td>\n",
       "      <td>194</td>\n",
       "      <td>195</td>\n",
       "    </tr>\n",
       "    <tr>\n",
       "      <th>3</th>\n",
       "      <td>2</td>\n",
       "      <td>211</td>\n",
       "      <td>211</td>\n",
       "      <td>212</td>\n",
       "      <td>212</td>\n",
       "      <td>211</td>\n",
       "      <td>210</td>\n",
       "      <td>211</td>\n",
       "      <td>210</td>\n",
       "      <td>210</td>\n",
       "      <td>...</td>\n",
       "      <td>235</td>\n",
       "      <td>234</td>\n",
       "      <td>233</td>\n",
       "      <td>231</td>\n",
       "      <td>230</td>\n",
       "      <td>226</td>\n",
       "      <td>225</td>\n",
       "      <td>222</td>\n",
       "      <td>229</td>\n",
       "      <td>163</td>\n",
       "    </tr>\n",
       "    <tr>\n",
       "      <th>4</th>\n",
       "      <td>13</td>\n",
       "      <td>164</td>\n",
       "      <td>167</td>\n",
       "      <td>170</td>\n",
       "      <td>172</td>\n",
       "      <td>176</td>\n",
       "      <td>179</td>\n",
       "      <td>180</td>\n",
       "      <td>184</td>\n",
       "      <td>185</td>\n",
       "      <td>...</td>\n",
       "      <td>92</td>\n",
       "      <td>105</td>\n",
       "      <td>105</td>\n",
       "      <td>108</td>\n",
       "      <td>133</td>\n",
       "      <td>163</td>\n",
       "      <td>157</td>\n",
       "      <td>163</td>\n",
       "      <td>164</td>\n",
       "      <td>179</td>\n",
       "    </tr>\n",
       "  </tbody>\n",
       "</table>\n",
       "<p>5 rows × 785 columns</p>\n",
       "</div>"
      ],
      "text/plain": [
       "   label  pixel1  pixel2  pixel3  pixel4  pixel5  pixel6  pixel7  pixel8  \\\n",
       "0      3     107     118     127     134     139     143     146     150   \n",
       "1      6     155     157     156     156     156     157     156     158   \n",
       "2      2     187     188     188     187     187     186     187     188   \n",
       "3      2     211     211     212     212     211     210     211     210   \n",
       "4     13     164     167     170     172     176     179     180     184   \n",
       "\n",
       "   pixel9  ...  pixel775  pixel776  pixel777  pixel778  pixel779  pixel780  \\\n",
       "0     153  ...       207       207       207       207       206       206   \n",
       "1     158  ...        69       149       128        87        94       163   \n",
       "2     187  ...       202       201       200       199       198       199   \n",
       "3     210  ...       235       234       233       231       230       226   \n",
       "4     185  ...        92       105       105       108       133       163   \n",
       "\n",
       "   pixel781  pixel782  pixel783  pixel784  \n",
       "0       206       204       203       202  \n",
       "1       175       103       135       149  \n",
       "2       198       195       194       195  \n",
       "3       225       222       229       163  \n",
       "4       157       163       164       179  \n",
       "\n",
       "[5 rows x 785 columns]"
      ]
     },
     "execution_count": 2,
     "metadata": {},
     "output_type": "execute_result"
    }
   ],
   "source": [
    "#reading data\n",
    "train_data = pd.read_csv(\"../input/sign-language-mnist/sign_mnist_train/sign_mnist_train.csv\")\n",
    "print(train_data.shape)\n",
    "train_data.head()"
   ]
  },
  {
   "cell_type": "code",
   "execution_count": 3,
   "id": "explicit-galaxy",
   "metadata": {
    "execution": {
     "iopub.execute_input": "2021-06-10T10:36:09.540161Z",
     "iopub.status.busy": "2021-06-10T10:36:09.539650Z",
     "iopub.status.idle": "2021-06-10T10:36:10.364806Z",
     "shell.execute_reply": "2021-06-10T10:36:10.364009Z",
     "shell.execute_reply.started": "2021-06-10T09:48:40.554448Z"
    },
    "papermill": {
     "duration": 0.857312,
     "end_time": "2021-06-10T10:36:10.364936",
     "exception": false,
     "start_time": "2021-06-10T10:36:09.507624",
     "status": "completed"
    },
    "tags": []
   },
   "outputs": [
    {
     "name": "stdout",
     "output_type": "stream",
     "text": [
      "(7172, 785)\n"
     ]
    },
    {
     "data": {
      "text/html": [
       "<div>\n",
       "<style scoped>\n",
       "    .dataframe tbody tr th:only-of-type {\n",
       "        vertical-align: middle;\n",
       "    }\n",
       "\n",
       "    .dataframe tbody tr th {\n",
       "        vertical-align: top;\n",
       "    }\n",
       "\n",
       "    .dataframe thead th {\n",
       "        text-align: right;\n",
       "    }\n",
       "</style>\n",
       "<table border=\"1\" class=\"dataframe\">\n",
       "  <thead>\n",
       "    <tr style=\"text-align: right;\">\n",
       "      <th></th>\n",
       "      <th>label</th>\n",
       "      <th>pixel1</th>\n",
       "      <th>pixel2</th>\n",
       "      <th>pixel3</th>\n",
       "      <th>pixel4</th>\n",
       "      <th>pixel5</th>\n",
       "      <th>pixel6</th>\n",
       "      <th>pixel7</th>\n",
       "      <th>pixel8</th>\n",
       "      <th>pixel9</th>\n",
       "      <th>...</th>\n",
       "      <th>pixel775</th>\n",
       "      <th>pixel776</th>\n",
       "      <th>pixel777</th>\n",
       "      <th>pixel778</th>\n",
       "      <th>pixel779</th>\n",
       "      <th>pixel780</th>\n",
       "      <th>pixel781</th>\n",
       "      <th>pixel782</th>\n",
       "      <th>pixel783</th>\n",
       "      <th>pixel784</th>\n",
       "    </tr>\n",
       "  </thead>\n",
       "  <tbody>\n",
       "    <tr>\n",
       "      <th>0</th>\n",
       "      <td>6</td>\n",
       "      <td>149</td>\n",
       "      <td>149</td>\n",
       "      <td>150</td>\n",
       "      <td>150</td>\n",
       "      <td>150</td>\n",
       "      <td>151</td>\n",
       "      <td>151</td>\n",
       "      <td>150</td>\n",
       "      <td>151</td>\n",
       "      <td>...</td>\n",
       "      <td>138</td>\n",
       "      <td>148</td>\n",
       "      <td>127</td>\n",
       "      <td>89</td>\n",
       "      <td>82</td>\n",
       "      <td>96</td>\n",
       "      <td>106</td>\n",
       "      <td>112</td>\n",
       "      <td>120</td>\n",
       "      <td>107</td>\n",
       "    </tr>\n",
       "    <tr>\n",
       "      <th>1</th>\n",
       "      <td>5</td>\n",
       "      <td>126</td>\n",
       "      <td>128</td>\n",
       "      <td>131</td>\n",
       "      <td>132</td>\n",
       "      <td>133</td>\n",
       "      <td>134</td>\n",
       "      <td>135</td>\n",
       "      <td>135</td>\n",
       "      <td>136</td>\n",
       "      <td>...</td>\n",
       "      <td>47</td>\n",
       "      <td>104</td>\n",
       "      <td>194</td>\n",
       "      <td>183</td>\n",
       "      <td>186</td>\n",
       "      <td>184</td>\n",
       "      <td>184</td>\n",
       "      <td>184</td>\n",
       "      <td>182</td>\n",
       "      <td>180</td>\n",
       "    </tr>\n",
       "    <tr>\n",
       "      <th>2</th>\n",
       "      <td>10</td>\n",
       "      <td>85</td>\n",
       "      <td>88</td>\n",
       "      <td>92</td>\n",
       "      <td>96</td>\n",
       "      <td>105</td>\n",
       "      <td>123</td>\n",
       "      <td>135</td>\n",
       "      <td>143</td>\n",
       "      <td>147</td>\n",
       "      <td>...</td>\n",
       "      <td>68</td>\n",
       "      <td>166</td>\n",
       "      <td>242</td>\n",
       "      <td>227</td>\n",
       "      <td>230</td>\n",
       "      <td>227</td>\n",
       "      <td>226</td>\n",
       "      <td>225</td>\n",
       "      <td>224</td>\n",
       "      <td>222</td>\n",
       "    </tr>\n",
       "    <tr>\n",
       "      <th>3</th>\n",
       "      <td>0</td>\n",
       "      <td>203</td>\n",
       "      <td>205</td>\n",
       "      <td>207</td>\n",
       "      <td>206</td>\n",
       "      <td>207</td>\n",
       "      <td>209</td>\n",
       "      <td>210</td>\n",
       "      <td>209</td>\n",
       "      <td>210</td>\n",
       "      <td>...</td>\n",
       "      <td>154</td>\n",
       "      <td>248</td>\n",
       "      <td>247</td>\n",
       "      <td>248</td>\n",
       "      <td>253</td>\n",
       "      <td>236</td>\n",
       "      <td>230</td>\n",
       "      <td>240</td>\n",
       "      <td>253</td>\n",
       "      <td>255</td>\n",
       "    </tr>\n",
       "    <tr>\n",
       "      <th>4</th>\n",
       "      <td>3</td>\n",
       "      <td>188</td>\n",
       "      <td>191</td>\n",
       "      <td>193</td>\n",
       "      <td>195</td>\n",
       "      <td>199</td>\n",
       "      <td>201</td>\n",
       "      <td>202</td>\n",
       "      <td>203</td>\n",
       "      <td>203</td>\n",
       "      <td>...</td>\n",
       "      <td>26</td>\n",
       "      <td>40</td>\n",
       "      <td>64</td>\n",
       "      <td>48</td>\n",
       "      <td>29</td>\n",
       "      <td>46</td>\n",
       "      <td>49</td>\n",
       "      <td>46</td>\n",
       "      <td>46</td>\n",
       "      <td>53</td>\n",
       "    </tr>\n",
       "  </tbody>\n",
       "</table>\n",
       "<p>5 rows × 785 columns</p>\n",
       "</div>"
      ],
      "text/plain": [
       "   label  pixel1  pixel2  pixel3  pixel4  pixel5  pixel6  pixel7  pixel8  \\\n",
       "0      6     149     149     150     150     150     151     151     150   \n",
       "1      5     126     128     131     132     133     134     135     135   \n",
       "2     10      85      88      92      96     105     123     135     143   \n",
       "3      0     203     205     207     206     207     209     210     209   \n",
       "4      3     188     191     193     195     199     201     202     203   \n",
       "\n",
       "   pixel9  ...  pixel775  pixel776  pixel777  pixel778  pixel779  pixel780  \\\n",
       "0     151  ...       138       148       127        89        82        96   \n",
       "1     136  ...        47       104       194       183       186       184   \n",
       "2     147  ...        68       166       242       227       230       227   \n",
       "3     210  ...       154       248       247       248       253       236   \n",
       "4     203  ...        26        40        64        48        29        46   \n",
       "\n",
       "   pixel781  pixel782  pixel783  pixel784  \n",
       "0       106       112       120       107  \n",
       "1       184       184       182       180  \n",
       "2       226       225       224       222  \n",
       "3       230       240       253       255  \n",
       "4        49        46        46        53  \n",
       "\n",
       "[5 rows x 785 columns]"
      ]
     },
     "execution_count": 3,
     "metadata": {},
     "output_type": "execute_result"
    }
   ],
   "source": [
    "test_data = pd.read_csv(\"../input/sign-language-mnist/sign_mnist_test/sign_mnist_test.csv\")\n",
    "print(test_data.shape)\n",
    "test_data.head()"
   ]
  },
  {
   "cell_type": "markdown",
   "id": "approved-illinois",
   "metadata": {
    "papermill": {
     "duration": 0.026668,
     "end_time": "2021-06-10T10:36:10.418466",
     "exception": false,
     "start_time": "2021-06-10T10:36:10.391798",
     "status": "completed"
    },
    "tags": []
   },
   "source": [
    "basically in our dataset we are given lable for the corrosponding gasture and 784 (28 x 28) pixel values represting an image <br>\n",
    "* Training data contains 27455 images \n",
    "* test data contains 7172 images \n",
    "\n",
    "# Data preprocessing\n",
    "* converting array to images(tensors)\n",
    "\n",
    "* visulaizing lables and making sure that dataset is balanced\n",
    "* performing one hot encoding for lables"
   ]
  },
  {
   "cell_type": "code",
   "execution_count": 4,
   "id": "available-istanbul",
   "metadata": {
    "execution": {
     "iopub.execute_input": "2021-06-10T10:36:10.478554Z",
     "iopub.status.busy": "2021-06-10T10:36:10.477306Z",
     "iopub.status.idle": "2021-06-10T10:36:10.543478Z",
     "shell.execute_reply": "2021-06-10T10:36:10.542988Z",
     "shell.execute_reply.started": "2021-06-10T09:48:41.376130Z"
    },
    "papermill": {
     "duration": 0.098916,
     "end_time": "2021-06-10T10:36:10.543602",
     "exception": false,
     "start_time": "2021-06-10T10:36:10.444686",
     "status": "completed"
    },
    "tags": []
   },
   "outputs": [],
   "source": [
    "y_train = train_data['label']\n",
    "y_test = test_data['label']\n",
    "del train_data['label']\n",
    "del test_data['label']"
   ]
  },
  {
   "cell_type": "code",
   "execution_count": 5,
   "id": "collectible-eight",
   "metadata": {
    "execution": {
     "iopub.execute_input": "2021-06-10T10:36:10.601809Z",
     "iopub.status.busy": "2021-06-10T10:36:10.600539Z",
     "iopub.status.idle": "2021-06-10T10:36:10.605122Z",
     "shell.execute_reply": "2021-06-10T10:36:10.605473Z",
     "shell.execute_reply.started": "2021-06-10T09:48:41.453502Z"
    },
    "papermill": {
     "duration": 0.035385,
     "end_time": "2021-06-10T10:36:10.605594",
     "exception": false,
     "start_time": "2021-06-10T10:36:10.570209",
     "status": "completed"
    },
    "tags": []
   },
   "outputs": [
    {
     "data": {
      "text/plain": [
       "array([ 0,  1,  2,  3,  4,  5,  6,  7,  8, 10, 11, 12, 13, 14, 15, 16, 17,\n",
       "       18, 19, 20, 21, 22, 23, 24])"
      ]
     },
     "execution_count": 5,
     "metadata": {},
     "output_type": "execute_result"
    }
   ],
   "source": [
    "unique_labels = y_train.unique()\n",
    "unique_labels = np.sort(unique_labels)\n",
    "unique_labels"
   ]
  },
  {
   "cell_type": "code",
   "execution_count": 6,
   "id": "diagnostic-vision",
   "metadata": {
    "execution": {
     "iopub.execute_input": "2021-06-10T10:36:10.662813Z",
     "iopub.status.busy": "2021-06-10T10:36:10.662258Z",
     "iopub.status.idle": "2021-06-10T10:36:10.988940Z",
     "shell.execute_reply": "2021-06-10T10:36:10.988488Z",
     "shell.execute_reply.started": "2021-06-10T09:48:41.463264Z"
    },
    "papermill": {
     "duration": 0.357117,
     "end_time": "2021-06-10T10:36:10.989058",
     "exception": false,
     "start_time": "2021-06-10T10:36:10.631941",
     "status": "completed"
    },
    "tags": []
   },
   "outputs": [
    {
     "name": "stderr",
     "output_type": "stream",
     "text": [
      "/opt/conda/lib/python3.7/site-packages/seaborn/_decorators.py:43: FutureWarning: Pass the following variable as a keyword arg: x. From version 0.12, the only valid positional argument will be `data`, and passing other arguments without an explicit keyword will result in an error or misinterpretation.\n",
      "  FutureWarning\n"
     ]
    },
    {
     "data": {
      "image/png": "[encoded data removed]",
      "text/plain": [
       "<Figure size 1080x432 with 1 Axes>"
      ]
     },
     "metadata": {
      "needs_background": "light"
     },
     "output_type": "display_data"
    }
   ],
   "source": [
    "# visulaizing the data\n",
    "plt.figure(figsize=(15,6))\n",
    "sns.set_style(\"darkgrid\");\n",
    "sns.countplot(y_train);"
   ]
  },
  {
   "cell_type": "markdown",
   "id": "announced-northern",
   "metadata": {
    "papermill": {
     "duration": 0.02738,
     "end_time": "2021-06-10T10:36:11.044393",
     "exception": false,
     "start_time": "2021-06-10T10:36:11.017013",
     "status": "completed"
    },
    "tags": []
   },
   "source": [
    "This really nice visual tells us that there are nearly 1k examples for each class output so we can consider this dataset as a balanec dataset because there's no class suffering from very less or too much examples \n",
    "\n",
    "Now the question arrises that why we didnt check the same thing for test data .... and the ans is we dont really need that <span>&#128516;</span> .<br>\n",
    "In our training set we check the balance of the data coz we want to learn our model perfactly for each class we dont want it to be biased for a subset of possible classes, while in test set the whole paper can be from linear algebra , no worries in that case\n"
   ]
  },
  {
   "cell_type": "code",
   "execution_count": 7,
   "id": "lucky-marker",
   "metadata": {
    "execution": {
     "iopub.execute_input": "2021-06-10T10:36:11.102969Z",
     "iopub.status.busy": "2021-06-10T10:36:11.102164Z",
     "iopub.status.idle": "2021-06-10T10:36:11.116038Z",
     "shell.execute_reply": "2021-06-10T10:36:11.115621Z",
     "shell.execute_reply.started": "2021-06-10T09:48:41.804156Z"
    },
    "papermill": {
     "duration": 0.044614,
     "end_time": "2021-06-10T10:36:11.116144",
     "exception": false,
     "start_time": "2021-06-10T10:36:11.071530",
     "status": "completed"
    },
    "tags": []
   },
   "outputs": [
    {
     "data": {
      "text/plain": [
       "array([[0, 0, 0, 1, 0, 0, 0, 0, 0, 0, 0, 0, 0, 0, 0, 0, 0, 0, 0, 0, 0, 0,\n",
       "        0, 0],\n",
       "       [0, 0, 0, 0, 0, 0, 1, 0, 0, 0, 0, 0, 0, 0, 0, 0, 0, 0, 0, 0, 0, 0,\n",
       "        0, 0]])"
      ]
     },
     "execution_count": 7,
     "metadata": {},
     "output_type": "execute_result"
    }
   ],
   "source": [
    "label_binarizer = LabelBinarizer()\n",
    "y_train = label_binarizer.fit_transform(y_train)\n",
    "y_test = label_binarizer.fit_transform(y_test)\n",
    "\n",
    "y_train[:2]"
   ]
  },
  {
   "cell_type": "markdown",
   "id": "northern-foundation",
   "metadata": {
    "papermill": {
     "duration": 0.028706,
     "end_time": "2021-06-10T10:36:11.172322",
     "exception": false,
     "start_time": "2021-06-10T10:36:11.143616",
     "status": "completed"
    },
    "tags": []
   },
   "source": [
    "so basically `LabelBinarizer` performed OHE sort of stuff on our training data .<br>\n",
    "Now let's write a function wich can take our array of images and can return a well shaped wranggled array ."
   ]
  },
  {
   "cell_type": "code",
   "execution_count": 8,
   "id": "desperate-comedy",
   "metadata": {
    "execution": {
     "iopub.execute_input": "2021-06-10T10:36:11.232597Z",
     "iopub.status.busy": "2021-06-10T10:36:11.232061Z",
     "iopub.status.idle": "2021-06-10T10:36:11.235939Z",
     "shell.execute_reply": "2021-06-10T10:36:11.235505Z",
     "shell.execute_reply.started": "2021-06-10T09:48:41.824927Z"
    },
    "papermill": {
     "duration": 0.035901,
     "end_time": "2021-06-10T10:36:11.236050",
     "exception": false,
     "start_time": "2021-06-10T10:36:11.200149",
     "status": "completed"
    },
    "tags": []
   },
   "outputs": [],
   "source": [
    "def preprocess_image(x):\n",
    "    \n",
    "    \"\"\"\n",
    "    we know that the pixcel values lies between 0-255 but it is obsearved that models performs exceptionally well if we scale pixel values\n",
    "    between 0-1\"\"\"\n",
    "    x = x/255\n",
    "    x = x.reshape(-1,28,28,1) # convertin it into 28 x 28 gray scaled image\n",
    "    \n",
    "    return x\n",
    "    "
   ]
  },
  {
   "cell_type": "code",
   "execution_count": 9,
   "id": "built-shield",
   "metadata": {
    "execution": {
     "iopub.execute_input": "2021-06-10T10:36:11.296215Z",
     "iopub.status.busy": "2021-06-10T10:36:11.295242Z",
     "iopub.status.idle": "2021-06-10T10:36:11.381039Z",
     "shell.execute_reply": "2021-06-10T10:36:11.381437Z",
     "shell.execute_reply.started": "2021-06-10T09:48:41.832126Z"
    },
    "papermill": {
     "duration": 0.117992,
     "end_time": "2021-06-10T10:36:11.381606",
     "exception": false,
     "start_time": "2021-06-10T10:36:11.263614",
     "status": "completed"
    },
    "tags": []
   },
   "outputs": [],
   "source": [
    "train_x = preprocess_image(train_data.values)\n",
    "test_x = preprocess_image(test_data.values)"
   ]
  },
  {
   "cell_type": "markdown",
   "id": "wrapped-clarity",
   "metadata": {
    "papermill": {
     "duration": 0.027443,
     "end_time": "2021-06-10T10:36:11.437420",
     "exception": false,
     "start_time": "2021-06-10T10:36:11.409977",
     "status": "completed"
    },
    "tags": []
   },
   "source": [
    "let's write a function which<br>\n",
    "* takes images array as input\n",
    "* displays 10 images from it(first 10)"
   ]
  },
  {
   "cell_type": "code",
   "execution_count": 10,
   "id": "circular-syndicate",
   "metadata": {
    "execution": {
     "iopub.execute_input": "2021-06-10T10:36:11.498189Z",
     "iopub.status.busy": "2021-06-10T10:36:11.497520Z",
     "iopub.status.idle": "2021-06-10T10:36:11.500471Z",
     "shell.execute_reply": "2021-06-10T10:36:11.500884Z",
     "shell.execute_reply.started": "2021-06-10T09:48:41.927616Z"
    },
    "papermill": {
     "duration": 0.03624,
     "end_time": "2021-06-10T10:36:11.501024",
     "exception": false,
     "start_time": "2021-06-10T10:36:11.464784",
     "status": "completed"
    },
    "tags": []
   },
   "outputs": [],
   "source": [
    "def show_images(images,labels):\n",
    "    fig,ax = plt.subplots(2,5)\n",
    "    fig.set_size_inches(10, 6)\n",
    "    k =0\n",
    "    for i in range(2):\n",
    "        for j in range(5):\n",
    "            ax[i,j].imshow(images[k] , cmap='gray')\n",
    "            ax[i,j].set_title(str(unique_labels[np.argmax(y_train[k])]))\n",
    "            k = k+1;\n",
    "    plt.tight_layout()\n",
    "\n",
    "    "
   ]
  },
  {
   "cell_type": "code",
   "execution_count": 11,
   "id": "flying-redhead",
   "metadata": {
    "execution": {
     "iopub.execute_input": "2021-06-10T10:36:11.578709Z",
     "iopub.status.busy": "2021-06-10T10:36:11.576008Z",
     "iopub.status.idle": "2021-06-10T10:36:12.786187Z",
     "shell.execute_reply": "2021-06-10T10:36:12.786584Z",
     "shell.execute_reply.started": "2021-06-10T09:48:41.935635Z"
    },
    "papermill": {
     "duration": 1.258354,
     "end_time": "2021-06-10T10:36:12.786775",
     "exception": false,
     "start_time": "2021-06-10T10:36:11.528421",
     "status": "completed"
    },
    "tags": []
   },
   "outputs": [
    {
     "data": {
      "image/png": "[encoded data removed]",
      "text/plain": [
       "<Figure size 720x432 with 10 Axes>"
      ]
     },
     "metadata": {},
     "output_type": "display_data"
    }
   ],
   "source": [
    "#let's see first 10 images from training set\n",
    "show_images(train_x,y_train)"
   ]
  },
  {
   "cell_type": "code",
   "execution_count": 12,
   "id": "adult-clinton",
   "metadata": {
    "execution": {
     "iopub.execute_input": "2021-06-10T10:36:12.862555Z",
     "iopub.status.busy": "2021-06-10T10:36:12.861482Z",
     "iopub.status.idle": "2021-06-10T10:36:14.126926Z",
     "shell.execute_reply": "2021-06-10T10:36:14.126458Z",
     "shell.execute_reply.started": "2021-06-10T09:48:43.190510Z"
    },
    "papermill": {
     "duration": 1.310458,
     "end_time": "2021-06-10T10:36:14.127059",
     "exception": false,
     "start_time": "2021-06-10T10:36:12.816601",
     "status": "completed"
    },
    "tags": []
   },
   "outputs": [
    {
     "data": {
      "image/png": "[encoded data removed]",
      "text/plain": [
       "<Figure size 720x432 with 10 Axes>"
      ]
     },
     "metadata": {},
     "output_type": "display_data"
    }
   ],
   "source": [
    "#let's visualize test images as well\n",
    "show_images(test_x,y_test)"
   ]
  },
  {
   "cell_type": "markdown",
   "id": "satellite-ordinary",
   "metadata": {
    "papermill": {
     "duration": 0.029621,
     "end_time": "2021-06-10T10:36:14.186998",
     "exception": false,
     "start_time": "2021-06-10T10:36:14.157377",
     "status": "completed"
    },
    "tags": []
   },
   "source": [
    "so far we have done a lot , we got our images ready right!\n",
    "\n",
    "## Data Augmentation\n",
    "Data augmentation is a strategy that enables practitioners to significantly increase the diversity of data available for training models, without actually collecting new data. Data augmentation techniques such as cropping, padding, and horizontal flipping are commonly used to train large neural networks.\n",
    "\n",
    "This can expand our dataset artifically and make it robust , that couses variety in data and this can save us from overfitting."
   ]
  },
  {
   "cell_type": "code",
   "execution_count": 13,
   "id": "legendary-determination",
   "metadata": {
    "execution": {
     "iopub.execute_input": "2021-06-10T10:36:14.252524Z",
     "iopub.status.busy": "2021-06-10T10:36:14.251483Z",
     "iopub.status.idle": "2021-06-10T10:36:14.319008Z",
     "shell.execute_reply": "2021-06-10T10:36:14.318540Z",
     "shell.execute_reply.started": "2021-06-10T09:48:44.403454Z"
    },
    "papermill": {
     "duration": 0.102223,
     "end_time": "2021-06-10T10:36:14.319137",
     "exception": false,
     "start_time": "2021-06-10T10:36:14.216914",
     "status": "completed"
    },
    "tags": []
   },
   "outputs": [],
   "source": [
    "datagen = ImageDataGenerator(\n",
    "        featurewise_center=False,  # set input mean to 0 over the dataset\n",
    "        samplewise_center=False,  # set each sample mean to 0\n",
    "        featurewise_std_normalization=False,  # divide inputs by std of the dataset\n",
    "        samplewise_std_normalization=False,  # divide each input by its std\n",
    "        zca_whitening=False,  # apply ZCA whitening\n",
    "        rotation_range=10,  # randomly rotate images in the range (degrees, 0 to 180)\n",
    "        zoom_range = 0.1, # Randomly zoom image \n",
    "        width_shift_range=0.1,  # randomly shift images horizontally (fraction of total width)\n",
    "        height_shift_range=0.1,  # randomly shift images vertically (fraction of total height)\n",
    "        horizontal_flip=False,  # randomly flip images\n",
    "        vertical_flip=False)  # randomly flip images\n",
    "\n",
    "\n",
    "datagen.fit(train_x)"
   ]
  },
  {
   "cell_type": "markdown",
   "id": "attractive-mileage",
   "metadata": {
    "papermill": {
     "duration": 0.029936,
     "end_time": "2021-06-10T10:36:14.379348",
     "exception": false,
     "start_time": "2021-06-10T10:36:14.349412",
     "status": "completed"
    },
    "tags": []
   },
   "source": [
    "## Buidling the CNN model\n",
    "we will be building a CNN model to classify images , as usual we will try a few of conv2d layers along with batchNormalization and regulization(dropout) and then fallten layer then dense layer .\n"
   ]
  },
  {
   "cell_type": "code",
   "execution_count": 14,
   "id": "spatial-queen",
   "metadata": {
    "execution": {
     "iopub.execute_input": "2021-06-10T10:36:14.450069Z",
     "iopub.status.busy": "2021-06-10T10:36:14.449351Z",
     "iopub.status.idle": "2021-06-10T10:36:14.451635Z",
     "shell.execute_reply": "2021-06-10T10:36:14.452016Z",
     "shell.execute_reply.started": "2021-06-10T09:57:45.639064Z"
    },
    "papermill": {
     "duration": 0.042889,
     "end_time": "2021-06-10T10:36:14.452146",
     "exception": false,
     "start_time": "2021-06-10T10:36:14.409257",
     "status": "completed"
    },
    "tags": []
   },
   "outputs": [],
   "source": [
    "def build_model(hp):  \n",
    "  model = keras.Sequential([\n",
    "    keras.layers.Conv2D(\n",
    "        filters=hp.Int('conv_1_filter', min_value=75, max_value=200, step=25),\n",
    "        kernel_size=(3,3),\n",
    "        activation='relu',\n",
    "        \n",
    "        input_shape=(28,28,1)\n",
    "    ),\n",
    "    keras.layers.BatchNormalization(),\n",
    "    keras.layers.MaxPool2D(pool_size=(2,2),strides=2,padding='same'),\n",
    "    keras.layers.Conv2D(\n",
    "        filters=hp.Int('conv_2_filter', min_value=50, max_value=125, step=25),\n",
    "        kernel_size=(3,3),\n",
    "        activation='relu',\n",
    "    ),\n",
    "    \n",
    "    keras.layers.Dropout(\n",
    "        rate = hp.Choice('drop_1_rate', values = [0.1,0.5])\n",
    "    ),\n",
    "    keras.layers.BatchNormalization(),\n",
    "    keras.layers.MaxPool2D(pool_size=(2,2),strides=2,padding='same'),\n",
    "    \n",
    "    \n",
    "    keras.layers.Conv2D(\n",
    "        filters=hp.Int('conv_3_filter', min_value=25, max_value=75, step=25),\n",
    "        kernel_size=(3,3),\n",
    "        activation='relu',\n",
    "    ),\n",
    "    keras.layers.BatchNormalization(),\n",
    "    keras.layers.MaxPool2D(pool_size=(2,2),strides=2,padding='same'),  \n",
    "    keras.layers.Flatten(),\n",
    "    keras.layers.Dense(\n",
    "        units=hp.Int('dense_1_units', min_value=128, max_value=1024, step=32),\n",
    "        activation='relu'\n",
    "    ),\n",
    "    keras.layers.Dropout(\n",
    "        rate = hp.Choice('drop_2_rate', values = [0.1,0.3])\n",
    "    ),\n",
    "    keras.layers.Dense(24, activation='softmax')\n",
    "  ])\n",
    "  \n",
    "  model.compile(optimizer=keras.optimizers.Adam(hp.Choice('learning_rate', values=[1e-2, 1e-3])),\n",
    "              loss='categorical_crossentropy',\n",
    "              metrics=['accuracy'])\n",
    "  \n",
    "  return model"
   ]
  },
  {
   "cell_type": "code",
   "execution_count": 15,
   "id": "parliamentary-sunrise",
   "metadata": {
    "execution": {
     "iopub.execute_input": "2021-06-10T10:36:14.518599Z",
     "iopub.status.busy": "2021-06-10T10:36:14.518111Z",
     "iopub.status.idle": "2021-06-10T10:36:16.675725Z",
     "shell.execute_reply": "2021-06-10T10:36:16.675234Z",
     "shell.execute_reply.started": "2021-06-10T09:57:50.058234Z"
    },
    "papermill": {
     "duration": 2.193875,
     "end_time": "2021-06-10T10:36:16.675860",
     "exception": false,
     "start_time": "2021-06-10T10:36:14.481985",
     "status": "completed"
    },
    "tags": []
   },
   "outputs": [],
   "source": [
    "tuner_search=RandomSearch(build_model,\n",
    "                          objective='val_accuracy',\n",
    "                          max_trials=5,directory='output',project_name=\"ASLdetection1\")"
   ]
  },
  {
   "cell_type": "code",
   "execution_count": 16,
   "id": "democratic-prisoner",
   "metadata": {
    "execution": {
     "iopub.execute_input": "2021-06-10T10:36:16.751284Z",
     "iopub.status.busy": "2021-06-10T10:36:16.750320Z",
     "iopub.status.idle": "2021-06-10T10:40:16.559293Z",
     "shell.execute_reply": "2021-06-10T10:40:16.559853Z",
     "shell.execute_reply.started": "2021-06-10T09:57:51.949046Z"
    },
    "papermill": {
     "duration": 239.849446,
     "end_time": "2021-06-10T10:40:16.560059",
     "exception": false,
     "start_time": "2021-06-10T10:36:16.710613",
     "status": "completed"
    },
    "tags": []
   },
   "outputs": [
    {
     "name": "stdout",
     "output_type": "stream",
     "text": [
      "Trial 5 Complete [00h 00m 45s]\n",
      "val_accuracy: 0.9170385003089905\n",
      "\n",
      "Best val_accuracy So Far: 0.9698829054832458\n",
      "Total elapsed time: 00h 03m 59s\n"
     ]
    }
   ],
   "source": [
    "tuner_search.search(train_x,y_train,epochs=5,validation_data = (test_x, y_test))"
   ]
  },
  {
   "cell_type": "markdown",
   "id": "cloudy-roulette",
   "metadata": {
    "papermill": {
     "duration": 0.02994,
     "end_time": "2021-06-10T10:40:16.621056",
     "exception": false,
     "start_time": "2021-06-10T10:40:16.591116",
     "status": "completed"
    },
    "tags": []
   },
   "source": [
    "well,well well, what happened in above 3 cells , isn't it looking like a magic, or it's it's going over head, relax i'll try to explaing this\n",
    "<br>\n",
    "In the function `build_model` we build a cnn model , we spacified some layers and some of the hyperparameters are tuned using `keras-tuner` , it took each possible set of allowed parameters and trained a model and validated on test data , yep as simple as you read it.\n",
    "have a look at <a href=\"https://keras-team.github.io/keras-tuner/documentation/hyperparameters/\">keras-tuner</a>\n",
    "\n",
    "\n",
    "ok now we have tired different models and it's time to extract the best model from `tuner_search` object ...let's do this "
   ]
  },
  {
   "cell_type": "code",
   "execution_count": 17,
   "id": "varied-correction",
   "metadata": {
    "execution": {
     "iopub.execute_input": "2021-06-10T10:40:16.685773Z",
     "iopub.status.busy": "2021-06-10T10:40:16.684807Z",
     "iopub.status.idle": "2021-06-10T10:40:17.015939Z",
     "shell.execute_reply": "2021-06-10T10:40:17.015001Z",
     "shell.execute_reply.started": "2021-06-10T10:07:32.908168Z"
    },
    "papermill": {
     "duration": 0.364721,
     "end_time": "2021-06-10T10:40:17.016089",
     "exception": false,
     "start_time": "2021-06-10T10:40:16.651368",
     "status": "completed"
    },
    "tags": []
   },
   "outputs": [],
   "source": [
    "model=tuner_search.get_best_models(num_models=1)[0] #this will give us the best tuned model"
   ]
  },
  {
   "cell_type": "markdown",
   "id": "binding-booth",
   "metadata": {
    "papermill": {
     "duration": 0.031296,
     "end_time": "2021-06-10T10:40:17.081350",
     "exception": false,
     "start_time": "2021-06-10T10:40:17.050054",
     "status": "completed"
    },
    "tags": []
   },
   "source": [
    "# Now let's create a callback \n",
    "A callback is a set of functions to be applied at given stages of the training procedure. You can use callbacks to get a view on internal states and statistics of the model during training.\n",
    "\n",
    "we will reduce learning rate when a metric has stopped improving.\n",
    "\n",
    "Models often benefit from reducing the learning rate by a factor of 2-10 once learning stagnates. This callback monitors a quantity and if no improvement is seen for a 'patience' number of epochs, the learning rate is reduced.\n"
   ]
  },
  {
   "cell_type": "code",
   "execution_count": 18,
   "id": "norwegian-whole",
   "metadata": {
    "execution": {
     "iopub.execute_input": "2021-06-10T10:40:17.148983Z",
     "iopub.status.busy": "2021-06-10T10:40:17.147422Z",
     "iopub.status.idle": "2021-06-10T10:40:17.149931Z",
     "shell.execute_reply": "2021-06-10T10:40:17.150336Z",
     "shell.execute_reply.started": "2021-06-10T10:14:42.558288Z"
    },
    "papermill": {
     "duration": 0.038025,
     "end_time": "2021-06-10T10:40:17.150459",
     "exception": false,
     "start_time": "2021-06-10T10:40:17.112434",
     "status": "completed"
    },
    "tags": []
   },
   "outputs": [],
   "source": [
    "lr_reduction = ReduceLROnPlateau(monitor='val_accuracy', patience = 3, verbose=1,factor=0.5, min_lr=0.00001)"
   ]
  },
  {
   "cell_type": "markdown",
   "id": "confirmed-organ",
   "metadata": {
    "papermill": {
     "duration": 0.030714,
     "end_time": "2021-06-10T10:40:17.212497",
     "exception": false,
     "start_time": "2021-06-10T10:40:17.181783",
     "status": "completed"
    },
    "tags": []
   },
   "source": [
    "now let's train the model "
   ]
  },
  {
   "cell_type": "code",
   "execution_count": 19,
   "id": "american-mount",
   "metadata": {
    "execution": {
     "iopub.execute_input": "2021-06-10T10:40:17.277284Z",
     "iopub.status.busy": "2021-06-10T10:40:17.276373Z",
     "iopub.status.idle": "2021-06-10T10:43:23.069064Z",
     "shell.execute_reply": "2021-06-10T10:43:23.068337Z",
     "shell.execute_reply.started": "2021-06-10T10:16:46.263159Z"
    },
    "papermill": {
     "duration": 185.826717,
     "end_time": "2021-06-10T10:43:23.069201",
     "exception": false,
     "start_time": "2021-06-10T10:40:17.242484",
     "status": "completed"
    },
    "tags": []
   },
   "outputs": [
    {
     "name": "stdout",
     "output_type": "stream",
     "text": [
      "Epoch 1/20\n",
      "215/215 [==============================] - 10s 44ms/step - loss: 0.4441 - accuracy: 0.8845 - val_loss: 0.0783 - val_accuracy: 0.9728\n",
      "Epoch 2/20\n",
      "215/215 [==============================] - 9s 42ms/step - loss: 0.0529 - accuracy: 0.9817 - val_loss: 0.0358 - val_accuracy: 0.9858\n",
      "Epoch 3/20\n",
      "215/215 [==============================] - 9s 42ms/step - loss: 0.0342 - accuracy: 0.9885 - val_loss: 0.0396 - val_accuracy: 0.9875\n",
      "Epoch 4/20\n",
      "215/215 [==============================] - 9s 42ms/step - loss: 0.0208 - accuracy: 0.9939 - val_loss: 0.0299 - val_accuracy: 0.9918\n",
      "Epoch 5/20\n",
      "215/215 [==============================] - 9s 44ms/step - loss: 0.0243 - accuracy: 0.9924 - val_loss: 0.0027 - val_accuracy: 1.0000\n",
      "Epoch 6/20\n",
      "215/215 [==============================] - 9s 42ms/step - loss: 0.0165 - accuracy: 0.9943 - val_loss: 0.0640 - val_accuracy: 0.9799\n",
      "Epoch 7/20\n",
      "215/215 [==============================] - 9s 43ms/step - loss: 0.0175 - accuracy: 0.9943 - val_loss: 0.0248 - val_accuracy: 0.9930\n",
      "Epoch 8/20\n",
      "215/215 [==============================] - 10s 45ms/step - loss: 0.0170 - accuracy: 0.9944 - val_loss: 0.0049 - val_accuracy: 0.9979\n",
      "\n",
      "Epoch 00008: ReduceLROnPlateau reducing learning rate to 0.0005000000237487257.\n",
      "Epoch 9/20\n",
      "215/215 [==============================] - 9s 42ms/step - loss: 0.0108 - accuracy: 0.9967 - val_loss: 0.0028 - val_accuracy: 0.9994\n",
      "Epoch 10/20\n",
      "215/215 [==============================] - 9s 43ms/step - loss: 0.0063 - accuracy: 0.9982 - val_loss: 0.0019 - val_accuracy: 0.9992\n",
      "Epoch 11/20\n",
      "215/215 [==============================] - 9s 42ms/step - loss: 0.0052 - accuracy: 0.9984 - val_loss: 6.3629e-04 - val_accuracy: 1.0000\n",
      "\n",
      "Epoch 00011: ReduceLROnPlateau reducing learning rate to 0.0002500000118743628.\n",
      "Epoch 12/20\n",
      "215/215 [==============================] - 9s 44ms/step - loss: 0.0035 - accuracy: 0.9991 - val_loss: 0.0018 - val_accuracy: 0.9996\n",
      "Epoch 13/20\n",
      "215/215 [==============================] - 9s 41ms/step - loss: 0.0033 - accuracy: 0.9990 - val_loss: 7.7804e-04 - val_accuracy: 0.9997\n",
      "Epoch 14/20\n",
      "215/215 [==============================] - 9s 43ms/step - loss: 0.0027 - accuracy: 0.9994 - val_loss: 7.1958e-04 - val_accuracy: 1.0000\n",
      "\n",
      "Epoch 00014: ReduceLROnPlateau reducing learning rate to 0.0001250000059371814.\n",
      "Epoch 15/20\n",
      "215/215 [==============================] - 10s 44ms/step - loss: 0.0034 - accuracy: 0.9991 - val_loss: 4.5569e-04 - val_accuracy: 1.0000\n",
      "Epoch 16/20\n",
      "215/215 [==============================] - 9s 42ms/step - loss: 0.0029 - accuracy: 0.9992 - val_loss: 0.0030 - val_accuracy: 0.9982\n",
      "Epoch 17/20\n",
      "215/215 [==============================] - 9s 44ms/step - loss: 0.0022 - accuracy: 0.9995 - val_loss: 4.7482e-04 - val_accuracy: 1.0000\n",
      "\n",
      "Epoch 00017: ReduceLROnPlateau reducing learning rate to 6.25000029685907e-05.\n",
      "Epoch 18/20\n",
      "215/215 [==============================] - 9s 42ms/step - loss: 0.0025 - accuracy: 0.9992 - val_loss: 3.7059e-04 - val_accuracy: 1.0000\n",
      "Epoch 19/20\n",
      "215/215 [==============================] - 9s 43ms/step - loss: 0.0015 - accuracy: 0.9997 - val_loss: 2.0428e-04 - val_accuracy: 1.0000\n",
      "Epoch 20/20\n",
      "215/215 [==============================] - 9s 44ms/step - loss: 0.0019 - accuracy: 0.9995 - val_loss: 1.8330e-04 - val_accuracy: 1.0000\n",
      "\n",
      "Epoch 00020: ReduceLROnPlateau reducing learning rate to 3.125000148429535e-05.\n"
     ]
    }
   ],
   "source": [
    "history = model.fit(datagen.flow(train_x,y_train, batch_size = 128) \n",
    "                    ,epochs = 20\n",
    "                    , validation_data = (test_x, y_test)\n",
    "                    , callbacks = [lr_reduction])"
   ]
  },
  {
   "cell_type": "markdown",
   "id": "informed-inside",
   "metadata": {
    "papermill": {
     "duration": 0.619864,
     "end_time": "2021-06-10T10:43:24.345422",
     "exception": false,
     "start_time": "2021-06-10T10:43:23.725558",
     "status": "completed"
    },
    "tags": []
   },
   "source": [
    "well, we got 100% accuracy on our test data .\n",
    "# Analyse the trained model"
   ]
  },
  {
   "cell_type": "code",
   "execution_count": 20,
   "id": "bibliographic-depth",
   "metadata": {
    "execution": {
     "iopub.execute_input": "2021-06-10T10:43:25.804311Z",
     "iopub.status.busy": "2021-06-10T10:43:25.799986Z",
     "iopub.status.idle": "2021-06-10T10:43:25.811109Z",
     "shell.execute_reply": "2021-06-10T10:43:25.810434Z",
     "shell.execute_reply.started": "2021-06-10T10:22:18.508823Z"
    },
    "papermill": {
     "duration": 0.854039,
     "end_time": "2021-06-10T10:43:25.811266",
     "exception": false,
     "start_time": "2021-06-10T10:43:24.957227",
     "status": "completed"
    },
    "tags": []
   },
   "outputs": [
    {
     "name": "stdout",
     "output_type": "stream",
     "text": [
      "Model: \"sequential\"\n",
      "_________________________________________________________________\n",
      "Layer (type)                 Output Shape              Param #   \n",
      "=================================================================\n",
      "conv2d (Conv2D)              (None, 26, 26, 150)       1500      \n",
      "_________________________________________________________________\n",
      "batch_normalization (BatchNo (None, 26, 26, 150)       600       \n",
      "_________________________________________________________________\n",
      "max_pooling2d (MaxPooling2D) (None, 13, 13, 150)       0         \n",
      "_________________________________________________________________\n",
      "conv2d_1 (Conv2D)            (None, 11, 11, 50)        67550     \n",
      "_________________________________________________________________\n",
      "dropout (Dropout)            (None, 11, 11, 50)        0         \n",
      "_________________________________________________________________\n",
      "batch_normalization_1 (Batch (None, 11, 11, 50)        200       \n",
      "_________________________________________________________________\n",
      "max_pooling2d_1 (MaxPooling2 (None, 6, 6, 50)          0         \n",
      "_________________________________________________________________\n",
      "conv2d_2 (Conv2D)            (None, 4, 4, 50)          22550     \n",
      "_________________________________________________________________\n",
      "batch_normalization_2 (Batch (None, 4, 4, 50)          200       \n",
      "_________________________________________________________________\n",
      "max_pooling2d_2 (MaxPooling2 (None, 2, 2, 50)          0         \n",
      "_________________________________________________________________\n",
      "flatten (Flatten)            (None, 200)               0         \n",
      "_________________________________________________________________\n",
      "dense (Dense)                (None, 928)               186528    \n",
      "_________________________________________________________________\n",
      "dropout_1 (Dropout)          (None, 928)               0         \n",
      "_________________________________________________________________\n",
      "dense_1 (Dense)              (None, 24)                22296     \n",
      "=================================================================\n",
      "Total params: 301,424\n",
      "Trainable params: 300,924\n",
      "Non-trainable params: 500\n",
      "_________________________________________________________________\n"
     ]
    }
   ],
   "source": [
    "model.summary()"
   ]
  },
  {
   "cell_type": "code",
   "execution_count": 21,
   "id": "formal-newman",
   "metadata": {
    "execution": {
     "iopub.execute_input": "2021-06-10T10:43:27.085920Z",
     "iopub.status.busy": "2021-06-10T10:43:27.056708Z",
     "iopub.status.idle": "2021-06-10T10:43:27.441994Z",
     "shell.execute_reply": "2021-06-10T10:43:27.441537Z",
     "shell.execute_reply.started": "2021-06-10T10:23:57.583068Z"
    },
    "papermill": {
     "duration": 1.016415,
     "end_time": "2021-06-10T10:43:27.442120",
     "exception": false,
     "start_time": "2021-06-10T10:43:26.425705",
     "status": "completed"
    },
    "tags": []
   },
   "outputs": [
    {
     "data": {
      "image/png": "[encoded data removed]",
      "text/plain": [
       "<Figure size 1152x648 with 2 Axes>"
      ]
     },
     "metadata": {},
     "output_type": "display_data"
    }
   ],
   "source": [
    "epochs = [i for i in range(20)]\n",
    "fig , ax = plt.subplots(1,2)\n",
    "train_acc = history.history['accuracy']\n",
    "train_loss = history.history['loss']\n",
    "val_acc = history.history['val_accuracy']\n",
    "val_loss = history.history['val_loss']\n",
    "fig.set_size_inches(16,9)\n",
    "\n",
    "ax[0].plot(epochs , train_acc , 'go-' , label = 'Training Accuracy')\n",
    "ax[0].plot(epochs , val_acc , 'ro-' , label = 'Testing Accuracy')\n",
    "ax[0].set_title('Training & Validation Accuracy')\n",
    "ax[0].legend()\n",
    "ax[0].set_xlabel(\"Epochs\")\n",
    "ax[0].set_ylabel(\"Accuracy\")\n",
    "\n",
    "ax[1].plot(epochs , train_loss , 'g-o' , label = 'Training Loss')\n",
    "ax[1].plot(epochs , val_loss , 'r-o' , label = 'Testing Loss')\n",
    "ax[1].set_title('Testing Accuracy & Loss')\n",
    "ax[1].legend()\n",
    "ax[1].set_xlabel(\"Epochs\")\n",
    "ax[1].set_ylabel(\"Loss\")\n",
    "plt.show()"
   ]
  },
  {
   "cell_type": "markdown",
   "id": "dutch-acting",
   "metadata": {
    "papermill": {
     "duration": 0.608233,
     "end_time": "2021-06-10T10:43:28.655786",
     "exception": false,
     "start_time": "2021-06-10T10:43:28.047553",
     "status": "completed"
    },
    "tags": []
   },
   "source": [
    "let's now plot the model architecture"
   ]
  },
  {
   "cell_type": "code",
   "execution_count": 22,
   "id": "solved-research",
   "metadata": {
    "execution": {
     "iopub.execute_input": "2021-06-10T10:43:29.876134Z",
     "iopub.status.busy": "2021-06-10T10:43:29.875526Z",
     "iopub.status.idle": "2021-06-10T10:43:30.308353Z",
     "shell.execute_reply": "2021-06-10T10:43:30.307883Z",
     "shell.execute_reply.started": "2021-06-10T10:25:26.029015Z"
    },
    "papermill": {
     "duration": 1.044554,
     "end_time": "2021-06-10T10:43:30.308473",
     "exception": false,
     "start_time": "2021-06-10T10:43:29.263919",
     "status": "completed"
    },
    "tags": []
   },
   "outputs": [
    {
     "data": {
      "image/png": "[encoded data removed]",
      "text/plain": [
       "<IPython.core.display.Image object>"
      ]
     },
     "execution_count": 22,
     "metadata": {},
     "output_type": "execute_result"
    }
   ],
   "source": [
    "tf.keras.utils.plot_model(\n",
    "    model,\n",
    "    to_file=\"model.png\",\n",
    "    show_shapes=False,\n",
    "    show_dtype=False,\n",
    "    show_layer_names=True,\n",
    "    rankdir=\"TB\",\n",
    "    expand_nested=False,\n",
    "    dpi=96,\n",
    ")"
   ]
  },
  {
   "cell_type": "markdown",
   "id": "weekly-penetration",
   "metadata": {
    "papermill": {
     "duration": 0.610573,
     "end_time": "2021-06-10T10:43:31.533502",
     "exception": false,
     "start_time": "2021-06-10T10:43:30.922929",
     "status": "completed"
    },
    "tags": []
   },
   "source": [
    "Now let's make some predictions on test data and see the confusion metrix"
   ]
  },
  {
   "cell_type": "code",
   "execution_count": 23,
   "id": "mineral-inflation",
   "metadata": {
    "execution": {
     "iopub.execute_input": "2021-06-10T10:43:32.791475Z",
     "iopub.status.busy": "2021-06-10T10:43:32.790607Z",
     "iopub.status.idle": "2021-06-10T10:43:33.698931Z",
     "shell.execute_reply": "2021-06-10T10:43:33.699387Z",
     "shell.execute_reply.started": "2021-06-10T10:26:24.309267Z"
    },
    "papermill": {
     "duration": 1.528207,
     "end_time": "2021-06-10T10:43:33.699539",
     "exception": false,
     "start_time": "2021-06-10T10:43:32.171332",
     "status": "completed"
    },
    "tags": []
   },
   "outputs": [],
   "source": [
    "predictions = model.predict(test_x)"
   ]
  },
  {
   "cell_type": "code",
   "execution_count": 24,
   "id": "formal-valley",
   "metadata": {
    "execution": {
     "iopub.execute_input": "2021-06-10T10:43:34.925283Z",
     "iopub.status.busy": "2021-06-10T10:43:34.924729Z",
     "iopub.status.idle": "2021-06-10T10:43:34.928189Z",
     "shell.execute_reply": "2021-06-10T10:43:34.928547Z",
     "shell.execute_reply.started": "2021-06-10T10:26:26.680186Z"
    },
    "papermill": {
     "duration": 0.618335,
     "end_time": "2021-06-10T10:43:34.928716",
     "exception": false,
     "start_time": "2021-06-10T10:43:34.310381",
     "status": "completed"
    },
    "tags": []
   },
   "outputs": [],
   "source": [
    "def predictions_to_labels(pred):\n",
    "    labels =[]\n",
    "    for p in pred:\n",
    "        labels.append(unique_labels[np.argmax(p)])\n",
    "    return labels"
   ]
  },
  {
   "cell_type": "code",
   "execution_count": 25,
   "id": "addressed-rubber",
   "metadata": {
    "execution": {
     "iopub.execute_input": "2021-06-10T10:43:36.237522Z",
     "iopub.status.busy": "2021-06-10T10:43:36.236757Z",
     "iopub.status.idle": "2021-06-10T10:43:36.302305Z",
     "shell.execute_reply": "2021-06-10T10:43:36.303018Z",
     "shell.execute_reply.started": "2021-06-10T10:26:28.245828Z"
    },
    "papermill": {
     "duration": 0.760143,
     "end_time": "2021-06-10T10:43:36.303234",
     "exception": false,
     "start_time": "2021-06-10T10:43:35.543091",
     "status": "completed"
    },
    "tags": []
   },
   "outputs": [],
   "source": [
    "y_pred_labels = predictions_to_labels(predictions)\n",
    "y_test_labels = predictions_to_labels(y_test)"
   ]
  },
  {
   "cell_type": "code",
   "execution_count": 26,
   "id": "international-strengthening",
   "metadata": {
    "execution": {
     "iopub.execute_input": "2021-06-10T10:43:37.631800Z",
     "iopub.status.busy": "2021-06-10T10:43:37.629952Z",
     "iopub.status.idle": "2021-06-10T10:43:37.640368Z",
     "shell.execute_reply": "2021-06-10T10:43:37.639832Z",
     "shell.execute_reply.started": "2021-06-10T10:26:29.597571Z"
    },
    "papermill": {
     "duration": 0.627596,
     "end_time": "2021-06-10T10:43:37.640486",
     "exception": false,
     "start_time": "2021-06-10T10:43:37.012890",
     "status": "completed"
    },
    "tags": []
   },
   "outputs": [
    {
     "data": {
      "text/plain": [
       "1.0"
      ]
     },
     "execution_count": 26,
     "metadata": {},
     "output_type": "execute_result"
    }
   ],
   "source": [
    "accuracy_score(y_test_labels,y_pred_labels)"
   ]
  },
  {
   "cell_type": "code",
   "execution_count": 27,
   "id": "electoral-bacteria",
   "metadata": {
    "execution": {
     "iopub.execute_input": "2021-06-10T10:43:38.869172Z",
     "iopub.status.busy": "2021-06-10T10:43:38.868378Z",
     "iopub.status.idle": "2021-06-10T10:43:41.187926Z",
     "shell.execute_reply": "2021-06-10T10:43:41.187451Z",
     "shell.execute_reply.started": "2021-06-10T10:28:40.538224Z"
    },
    "papermill": {
     "duration": 2.935155,
     "end_time": "2021-06-10T10:43:41.188044",
     "exception": false,
     "start_time": "2021-06-10T10:43:38.252889",
     "status": "completed"
    },
    "tags": []
   },
   "outputs": [
    {
     "data": {
      "text/plain": [
       "<AxesSubplot:>"
      ]
     },
     "execution_count": 27,
     "metadata": {},
     "output_type": "execute_result"
    },
    {
     "data": {
      "image/png": "[encoded data removed]",
      "text/plain": [
       "<Figure size 1440x1440 with 2 Axes>"
      ]
     },
     "metadata": {},
     "output_type": "display_data"
    }
   ],
   "source": [
    "cm= confusion_matrix(y_test_labels,y_pred_labels)\n",
    "plt.figure(figsize=(20,20))\n",
    "sns.heatmap(cm,annot=True,cmap='twilight_shifted')"
   ]
  },
  {
   "cell_type": "markdown",
   "id": "ready-providence",
   "metadata": {
    "papermill": {
     "duration": 0.6127,
     "end_time": "2021-06-10T10:43:42.410690",
     "exception": false,
     "start_time": "2021-06-10T10:43:41.797990",
     "status": "completed"
    },
    "tags": []
   },
   "source": [
    "<p style = \"font-size : 30px; color : #03506f ; font-family : 'Comic Sans MS'; \"><strong>Conclusion</strong></p> \n",
    " * we took the data from the dataframes and preprocessed the images\n",
    " * we performed data augmentation\n",
    " * we creadted a cnn model and tuned the hyperparameters with the help of `keras-tuner` library\n",
    " * we analysed our model \n",
    "<br>\n",
    "<p style = \"font-size : 15px; color : #035d6f ; font-family : 'Comic Sans MS'; \">At the end me made prediction of test data and as you can see we got the accuracy of <strong>100%</strong></p> "
   ]
  },
  {
   "cell_type": "markdown",
   "id": "sunrise-flight",
   "metadata": {
    "papermill": {
     "duration": 0.649633,
     "end_time": "2021-06-10T10:43:43.675525",
     "exception": false,
     "start_time": "2021-06-10T10:43:43.025892",
     "status": "completed"
    },
    "tags": []
   },
   "source": [
    "<p style = \"font-size : 20px; color : #f55c47 ; font-family : 'Comic Sans MS'; \"><strong>If you like my work, please do Upvote and if you find anything which can be improved please let me know.</strong></p> "
   ]
  },
  {
   "cell_type": "code",
   "execution_count": null,
   "id": "nasty-inspiration",
   "metadata": {
    "papermill": {
     "duration": 0.611158,
     "end_time": "2021-06-10T10:43:44.900602",
     "exception": false,
     "start_time": "2021-06-10T10:43:44.289444",
     "status": "completed"
    },
    "tags": []
   },
   "outputs": [],
   "source": []
  }
 ],
 "metadata": {
  "kernelspec": {
   "display_name": "Python 3 (ipykernel)",
   "language": "python",
   "name": "python3"
  },
  "language_info": {
   "codemirror_mode": {
    "name": "ipython",
    "version": 3
   },
   "file_extension": ".py",
   "mimetype": "text/x-python",
   "name": "python",
   "nbconvert_exporter": "python",
   "pygments_lexer": "ipython3",
   "version": "3.9.12"
  },
  "papermill": {
   "default_parameters": {},
   "duration": 473.910579,
   "end_time": "2021-06-10T10:43:48.177506",
   "environment_variables": {},
   "exception": null,
   "input_path": "__notebook__.ipynb",
   "output_path": "__notebook__.ipynb",
   "parameters": {},
   "start_time": "2021-06-10T10:35:54.266927",
   "version": "2.3.3"
  }
 },
 "nbformat": 4,
 "nbformat_minor": 5
}
